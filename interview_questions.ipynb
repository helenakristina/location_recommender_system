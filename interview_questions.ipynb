{
 "cells": [
  {
   "cell_type": "code",
   "execution_count": 8,
   "metadata": {},
   "outputs": [],
   "source": [
    "# Primitive types 4.1\n",
    "\n",
    "def count_bits(x):\n",
    "    result = 0\n",
    "    while x:\n",
    "        result += x & 1\n",
    "        x >>= 1\n",
    "    return result\n",
    "        "
   ]
  },
  {
   "cell_type": "code",
   "execution_count": 9,
   "metadata": {},
   "outputs": [
    {
     "data": {
      "text/plain": [
       "2"
      ]
     },
     "execution_count": 9,
     "metadata": {},
     "output_type": "execute_result"
    }
   ],
   "source": [
    "count_bits(12)"
   ]
  },
  {
   "cell_type": "code",
   "execution_count": 10,
   "metadata": {},
   "outputs": [
    {
     "data": {
      "text/plain": [
       "2"
      ]
     },
     "execution_count": 10,
     "metadata": {},
     "output_type": "execute_result"
    }
   ],
   "source": [
    "def bitCount(int_type):\n",
    "    count = 0\n",
    "    while(int_type):\n",
    "        int_type &= int_type - 1\n",
    "        count += 1\n",
    "    return(count)\n",
    "\n",
    "bitCount(12)"
   ]
  },
  {
   "cell_type": "code",
   "execution_count": 15,
   "metadata": {},
   "outputs": [
    {
     "data": {
      "text/plain": [
       "0"
      ]
     },
     "execution_count": 15,
     "metadata": {},
     "output_type": "execute_result"
    }
   ],
   "source": [
    "# parity (true if # of positive bits is odd)\n",
    "\n",
    "def parity(x):\n",
    "    result = 0\n",
    "    while x:\n",
    "        result ^= x & 1\n",
    "        x >>= 1\n",
    "    return result\n",
    "\n",
    "parity(5)"
   ]
  },
  {
   "cell_type": "code",
   "execution_count": 22,
   "metadata": {},
   "outputs": [
    {
     "data": {
      "text/plain": [
       "1"
      ]
     },
     "execution_count": 22,
     "metadata": {},
     "output_type": "execute_result"
    }
   ],
   "source": [
    "# x & (x-1) = x with lowest set bit erased\n",
    "\n",
    "def parity(x):\n",
    "    result = 0\n",
    "    while x:\n",
    "        result ^= 1\n",
    "        x &= (x - 1)\n",
    "    return result\n",
    "parity(1)"
   ]
  },
  {
   "cell_type": "code",
   "execution_count": 30,
   "metadata": {},
   "outputs": [
    {
     "name": "stdout",
     "output_type": "stream",
     "text": [
      "[2, 4, 6, 8]\n"
     ]
    }
   ],
   "source": [
    "# 5.1 Array\n",
    "# Given an array of numbers\n",
    "# Return an array of numbers where even numbers come first\n",
    "\n",
    "#Test case: [0, 1, 2] => [0, 2, 1]\n",
    "# Array with only odds\n",
    "# Array with only evens\n",
    "# Empty array \n",
    "# Very long array\n",
    "\n",
    "# Algorithm - first_even is at beginning, first_od is at end \n",
    "# if value at first_even is odd, swap values with first_odd if that is even\n",
    "# then A[next_even] becomes value at A[next_odd] and keep going\n",
    "\n",
    "def even_odd(A):\n",
    "    if len(A) <= 1:\n",
    "        return A\n",
    "    next_even, next_odd = 0, len(A) - 1\n",
    "    while next_even < next_odd:\n",
    "        if A[next_even] % 2 == 0:\n",
    "            next_even += 1\n",
    "        else:\n",
    "            A[next_even], A[next_odd] =  A[next_odd], A[next_even]\n",
    "            next_odd -= 1\n",
    "\n",
    "A = [2,4,6,8]\n",
    "even_odd(A)\n",
    "print(A)"
   ]
  },
  {
   "cell_type": "code",
   "execution_count": 36,
   "metadata": {},
   "outputs": [],
   "source": [
    "# Buy and sell a stock once\n",
    "\n",
    "# Given a sequence of values for a stock\n",
    "# Ex. [310, 315, 275, 295, 260, 270, 290, 230, 255, 250]\n",
    "# Return maximum profit-- (buy must come before sell)\n",
    "\n",
    "def buy_and_sell_once(prices):\n",
    "    min_price, max_profit = float('inf'), 0.0\n",
    "    for price in prices:\n",
    "        profit_sell_now = price - min_price\n",
    "        max_profit = max(max_profit, profit_sell_now)\n",
    "        min_price = min(min_price, price)\n",
    "        \n",
    "    return max_profit\n",
    "        \n"
   ]
  },
  {
   "cell_type": "code",
   "execution_count": 37,
   "metadata": {},
   "outputs": [
    {
     "data": {
      "text/plain": [
       "30"
      ]
     },
     "execution_count": 37,
     "metadata": {},
     "output_type": "execute_result"
    }
   ],
   "source": [
    "prices = [310, 315, 275, 295, 260, 270, 290, 230, 255, 250]\n",
    "\n",
    "buy_and_sell_once(prices)"
   ]
  },
  {
   "cell_type": "code",
   "execution_count": 47,
   "metadata": {},
   "outputs": [],
   "source": [
    "# Given an array of integers\n",
    "# Return length of longest subarray whose values are equal\n",
    "# Values are consecutive\n",
    "\n",
    "# Ex. [2,1,1,3] = 2\n",
    "\n",
    "def find_longest_subarray(arr):\n",
    "    if len(arr) <= 1:\n",
    "        return len(arr)\n",
    "    longest_subarray, i, j = 1, 0, 1\n",
    "    while i < len(arr):\n",
    "        while j < len(arr) and arr[i] == arr[j]:\n",
    "            j += 1\n",
    "            longest_subarray = max(longest_subarray, j-i) \n",
    "        if j == len(arr): break\n",
    "        else:\n",
    "            i = j\n",
    "    return longest_subarray\n",
    "\n",
    "\n",
    "# TODO check subtraction, more test cases, also what if not consecutive?"
   ]
  },
  {
   "cell_type": "code",
   "execution_count": 48,
   "metadata": {},
   "outputs": [
    {
     "data": {
      "text/plain": [
       "3"
      ]
     },
     "execution_count": 48,
     "metadata": {},
     "output_type": "execute_result"
    }
   ],
   "source": [
    "arr = [2,1,1,1,4] \n",
    "find_longest_subarray(arr)"
   ]
  },
  {
   "cell_type": "code",
   "execution_count": 54,
   "metadata": {},
   "outputs": [],
   "source": [
    "# Strings\n",
    "# s[~i] = s(-(i + 1))\n",
    "\n",
    "def is_palindromic(s):\n",
    "    return all([s[i] == s[~i] for i in range(len(s)//2)])"
   ]
  },
  {
   "cell_type": "code",
   "execution_count": 55,
   "metadata": {},
   "outputs": [
    {
     "data": {
      "text/plain": [
       "True"
      ]
     },
     "execution_count": 55,
     "metadata": {},
     "output_type": "execute_result"
    }
   ],
   "source": [
    "is_palindromic('hannah')"
   ]
  },
  {
   "cell_type": "code",
   "execution_count": 56,
   "metadata": {},
   "outputs": [
    {
     "data": {
      "text/plain": [
       "False"
      ]
     },
     "execution_count": 56,
     "metadata": {},
     "output_type": "execute_result"
    }
   ],
   "source": [
    "is_palindromic('Naomi')"
   ]
  },
  {
   "cell_type": "code",
   "execution_count": 81,
   "metadata": {},
   "outputs": [],
   "source": [
    "# Given an integer, return its string ex: 314 => '314' (also account for negative case)\n",
    "# make sure it works for 0 case, negative case, positive case\n",
    "def int_to_str(i):\n",
    "    \n",
    "    is_negative, i = i < 0, abs(i)\n",
    "\n",
    "    # could get rid of hardcoded 0 case with chr and ord in next block\n",
    "    if i == 0: return '0'\n",
    "    result_s = []\n",
    "\n",
    "    while i > 0:\n",
    "        divide_by_10, remainder = i // 10, i % 10\n",
    "        result_s.append(str(remainder))\n",
    "        i = divide_by_10\n",
    "\n",
    "    return ('-' if is_negative else '') + ''.join(reversed(result_s))\n",
    "    "
   ]
  },
  {
   "cell_type": "code",
   "execution_count": 82,
   "metadata": {},
   "outputs": [
    {
     "name": "stdout",
     "output_type": "stream",
     "text": [
      "-21\n",
      "-400\n",
      "2899000\n",
      "0\n",
      "12345\n"
     ]
    }
   ],
   "source": [
    "print(int_to_str(-21))\n",
    "print(int_to_str(-400))\n",
    "print(int_to_str(2899000))\n",
    "print(int_to_str(0))\n",
    "print(int_to_str(12345))\n"
   ]
  },
  {
   "cell_type": "code",
   "execution_count": 110,
   "metadata": {},
   "outputs": [],
   "source": [
    "def str_to_int(s):\n",
    "\n",
    "    factor, is_negative = 1, s[0] == '-'  \n",
    "    end_range = (-len(s) if is_negative else -len(s)-1) \n",
    "    result = 0\n",
    "\n",
    "    for i in range(-1, end_range, -1):\n",
    "        result += int(s[i]) * factor\n",
    "        factor *= 10\n",
    "    return (result if not is_negative else result * -1)"
   ]
  },
  {
   "cell_type": "code",
   "execution_count": 111,
   "metadata": {},
   "outputs": [
    {
     "data": {
      "text/plain": [
       "123"
      ]
     },
     "execution_count": 111,
     "metadata": {},
     "output_type": "execute_result"
    }
   ],
   "source": [
    "str_to_int('123')"
   ]
  },
  {
   "cell_type": "code",
   "execution_count": 113,
   "metadata": {},
   "outputs": [
    {
     "data": {
      "text/plain": [
       "-123"
      ]
     },
     "execution_count": 113,
     "metadata": {},
     "output_type": "execute_result"
    }
   ],
   "source": [
    "str_to_int('-123')"
   ]
  },
  {
   "cell_type": "code",
   "execution_count": 115,
   "metadata": {},
   "outputs": [
    {
     "data": {
      "text/plain": [
       "0"
      ]
     },
     "execution_count": 115,
     "metadata": {},
     "output_type": "execute_result"
    }
   ],
   "source": [
    "str_to_int('0')"
   ]
  },
  {
   "cell_type": "code",
   "execution_count": 116,
   "metadata": {},
   "outputs": [
    {
     "data": {
      "text/plain": [
       "-1"
      ]
     },
     "execution_count": 116,
     "metadata": {},
     "output_type": "execute_result"
    }
   ],
   "source": [
    "str_to_int('-1')"
   ]
  },
  {
   "cell_type": "code",
   "execution_count": 121,
   "metadata": {},
   "outputs": [],
   "source": [
    "import functools, string\n",
    "\n",
    "def str_to_int_2(s):\n",
    "    return functools.reduce(lambda running_sum, \n",
    "                            c: running_sum * 10 + string.digits.index(c),\n",
    "                            s[s[0]  == '-':],\n",
    "                            0) * (-1 if s[0] == '-' else 1)\n"
   ]
  },
  {
   "cell_type": "code",
   "execution_count": 122,
   "metadata": {},
   "outputs": [
    {
     "data": {
      "text/plain": [
       "-1"
      ]
     },
     "execution_count": 122,
     "metadata": {},
     "output_type": "execute_result"
    }
   ],
   "source": [
    "str_to_int_2('-1')"
   ]
  },
  {
   "cell_type": "code",
   "execution_count": 1,
   "metadata": {},
   "outputs": [],
   "source": [
    "# Linked list\n",
    "class ListNode:\n",
    "    \n",
    "    def __init__(self, data=0, next_node=None):\n",
    "        self.data = data\n",
    "        self.next = next_node"
   ]
  },
  {
   "cell_type": "code",
   "execution_count": 2,
   "metadata": {},
   "outputs": [],
   "source": [
    "def search_list(L, key):\n",
    "    while L and L.data != key:\n",
    "        L = L.next\n",
    "        \n",
    "    return L"
   ]
  },
  {
   "cell_type": "code",
   "execution_count": 3,
   "metadata": {},
   "outputs": [],
   "source": [
    "def insert_after(node, new_node):\n",
    "    new_node.next = node.next\n",
    "    node.next = new_node"
   ]
  },
  {
   "cell_type": "code",
   "execution_count": 5,
   "metadata": {},
   "outputs": [],
   "source": [
    "def delete_after(node):\n",
    "    if node.next:\n",
    "        node.next = node.next.next\n",
    "    # else is tail, nothing to delete"
   ]
  },
  {
   "cell_type": "code",
   "execution_count": 6,
   "metadata": {},
   "outputs": [],
   "source": [
    "# Given two sorted linked lists L1 and L2, merge them to produce a sorted linked list\n",
    "\n",
    "def merge_sorted_linked_lists(L1, L2):\n",
    "\n",
    "    result_head = result_tail = ListNode()\n",
    "    \n",
    "    while L1 and L2:\n",
    "        if L1.data < L2.data:\n",
    "            result_tail.next, L1 = L1, L1.next\n",
    "        else:\n",
    "            result_tail.next, L2 = L2, L2.next\n",
    "    \n",
    "    # if any are left over\n",
    "    tail.next = L1 or L2\n",
    "    \n",
    "    return result_head.next\n",
    "\n",
    "# TODO solve for doubly linked\n",
    "    "
   ]
  },
  {
   "cell_type": "code",
   "execution_count": 9,
   "metadata": {},
   "outputs": [],
   "source": [
    "# Implement a stack with cached max (that way if you pop off the max element you will know)\n",
    "import collections\n",
    "class Stack:\n",
    "    ElementWithCachedMax = collections.namedtuple('ElementWithCachedMax', ('element', 'max'))\n",
    "    \n",
    "    \n",
    "    def __init__(self):\n",
    "        self._element_with_cached_max = []\n",
    "        \n",
    "    def empty(self):\n",
    "        return len(self._element_with_cached_max) == 0\n",
    "    \n",
    "    def max(self):\n",
    "        if self.empty():\n",
    "            raise IndexError('max(): empty stack')\n",
    "            \n",
    "        return self._element_with_cached_max[-1].max\n",
    "    \n",
    "    def pop(self):\n",
    "        if self.empty():\n",
    "            raise IndexError('pop(): empty stack')\n",
    "        \n",
    "        return self._element_with_cached_max.pop().element\n",
    "\n",
    "    def push(self, x):\n",
    "        self._element_with_cached_max.append(self.ElementWithCachedMax(x, x if self.empty() else max(x, self.max)))\n",
    "        \n",
    "\n",
    "    \n",
    "    "
   ]
  },
  {
   "cell_type": "code",
   "execution_count": null,
   "metadata": {},
   "outputs": [],
   "source": []
  }
 ],
 "metadata": {
  "kernelspec": {
   "display_name": "Python 3",
   "language": "python",
   "name": "python3"
  },
  "language_info": {
   "codemirror_mode": {
    "name": "ipython",
    "version": 3
   },
   "file_extension": ".py",
   "mimetype": "text/x-python",
   "name": "python",
   "nbconvert_exporter": "python",
   "pygments_lexer": "ipython3",
   "version": "3.6.3"
  }
 },
 "nbformat": 4,
 "nbformat_minor": 2
}
